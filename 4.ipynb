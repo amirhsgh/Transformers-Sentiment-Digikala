{
 "cells": [
  {
   "cell_type": "code",
   "execution_count": 1,
   "id": "d43f1035-7375-4920-8dbc-0d05cce3b7c1",
   "metadata": {},
   "outputs": [],
   "source": [
    "import pandas as pd\n",
    "import torch\n",
    "from torch.utils.data import DataLoader, Dataset\n",
    "from transformers import BertTokenizer, BertForSequenceClassification "
   ]
  },
  {
   "cell_type": "code",
   "execution_count": 3,
   "id": "eedf9e46-03f0-4b78-8681-e7671d30a2b6",
   "metadata": {},
   "outputs": [
    {
     "name": "stderr",
     "output_type": "stream",
     "text": [
      "Some weights of BertForSequenceClassification were not initialized from the model checkpoint at bert-base-uncased and are newly initialized: ['classifier.bias', 'classifier.weight']\n",
      "You should probably TRAIN this model on a down-stream task to be able to use it for predictions and inference.\n"
     ]
    }
   ],
   "source": [
    "tokenizer = BertTokenizer.from_pretrained('bert-base-uncased')\n",
    "model = BertForSequenceClassification.from_pretrained('bert-base-uncased', num_labels=5)"
   ]
  },
  {
   "cell_type": "code",
   "execution_count": 23,
   "id": "b916d668-a35b-49d5-a70e-8c03db314835",
   "metadata": {},
   "outputs": [],
   "source": [
    "df = pd.read_csv(\"data_train.csv\")"
   ]
  },
  {
   "cell_type": "code",
   "execution_count": 24,
   "id": "61e7354b-cf78-4d03-80d2-012563a83587",
   "metadata": {},
   "outputs": [],
   "source": [
    "label_cols = ['label_1', 'label_2', 'label_3', 'label_4', 'label_5']"
   ]
  },
  {
   "cell_type": "code",
   "execution_count": 26,
   "id": "1c239665-2607-4758-8e1d-738ccbc6fadb",
   "metadata": {},
   "outputs": [],
   "source": [
    "for col in label_cols:\n",
    "    df[col] = 0\n",
    "\n",
    "for i, row in df.iterrows():\n",
    "    labels = row['intent'].split(',')\n",
    "    for label in labels:\n",
    "        label_col = f'label_{label.strip()}'\n",
    "        df.at[i, label_col] = 1\n",
    "\n",
    "df = df.drop('intent', axis=1)"
   ]
  },
  {
   "cell_type": "code",
   "execution_count": 27,
   "id": "b274b451-bb3c-4baf-b8b4-c8a003ac005c",
   "metadata": {},
   "outputs": [],
   "source": [
    "df.drop(columns=['id'], inplace=True)"
   ]
  },
  {
   "cell_type": "code",
   "execution_count": 28,
   "id": "6dea4b1d-1fae-49fb-989d-375b25ffb2c7",
   "metadata": {},
   "outputs": [],
   "source": [
    "class MultiLabelDataset(Dataset):\n",
    "    def __init__(self, dataframe, tokenizer, max_length=128):\n",
    "        self.data = dataframe\n",
    "        self.tokenizer = tokenizer\n",
    "        self.max_length = max_length\n",
    "\n",
    "    def __len__(self):\n",
    "        return len(self.data)\n",
    "\n",
    "    def __getitem__(self, index):\n",
    "        text = str(self.data['comment'].iloc[index])\n",
    "        labels = torch.tensor(self.data.iloc[index][['label_1', 'label_2', 'label_3', 'label_4', 'label_5']], dtype=torch.float32)\n",
    "\n",
    "        encoding = self.tokenizer.encode_plus(\n",
    "            text,\n",
    "            add_special_tokens=True,\n",
    "            max_length=self.max_length,\n",
    "            return_token_type_ids=False,\n",
    "            pad_to_max_length=True,\n",
    "            return_attention_mask=True,\n",
    "            return_tensors='pt'\n",
    "        )\n",
    "\n",
    "        return {\n",
    "            'input_ids': encoding['input_ids'].flatten(),\n",
    "            'attention_mask': encoding['attention_mask'].flatten(),\n",
    "            'labels': labels\n",
    "        }"
   ]
  },
  {
   "cell_type": "code",
   "execution_count": 29,
   "id": "65dcdcdc-f30f-40eb-bdfc-d7fa3e200562",
   "metadata": {},
   "outputs": [],
   "source": [
    "train_dataset = MultiLabelDataset(df[5000:], tokenizer)\n",
    "val_dataset = MultiLabelDataset(df[:5000], tokenizer)\n",
    "\n",
    "train_loader = DataLoader(train_dataset, batch_size=16, shuffle=True)\n",
    "val_loader = DataLoader(val_dataset, batch_size=16, shuffle=False)"
   ]
  },
  {
   "cell_type": "code",
   "execution_count": 30,
   "id": "6aaeed2c-b270-49f0-98d4-1540e179bf18",
   "metadata": {},
   "outputs": [],
   "source": [
    "import torch.nn as nn\n",
    "from transformers import BertModel\n",
    "\n",
    "class BERTMultiLabelClassifier(nn.Module):\n",
    "    def __init__(self, num_labels=5):\n",
    "        super(BERTMultiLabelClassifier, self).__init__()\n",
    "        self.bert = BertModel.from_pretrained('bert-base-uncased')\n",
    "        self.dropout = nn.Dropout(0.1)\n",
    "        self.classifier = nn.Linear(self.bert.config.hidden_size, num_labels)\n",
    "\n",
    "    def forward(self, input_ids, attention_mask):\n",
    "        outputs = self.bert(input_ids=input_ids, attention_mask=attention_mask)\n",
    "        pooled_output = outputs.pooler_output\n",
    "        pooled_output = self.dropout(pooled_output)\n",
    "        logits = self.classifier(pooled_output)\n",
    "        return logits\n",
    "\n",
    "model = BERTMultiLabelClassifier()"
   ]
  },
  {
   "cell_type": "code",
   "execution_count": 43,
   "id": "ca7cae7e-9710-4932-a0f0-50d193bca4fa",
   "metadata": {},
   "outputs": [],
   "source": [
    "device = torch.device('cuda' if torch.cuda.is_available() else \"cpu\")\n",
    "\n",
    "model.to(device)\n",
    "\n",
    "optimizer = torch.optim.AdamW(model.parameters(), lr=2e-5)\n",
    "criterion = nn.BCEWithLogitsLoss()\n",
    "num_epoch = 3\n",
    "\n",
    "for epoch in range(num_epoch):\n",
    "    model.train()\n",
    "    total_loss = 0\n",
    "    for batch in train_loader:\n",
    "        input_ids = batch['input_ids'].to(device)\n",
    "        attention_mask = batch['attention_mask'].to(device)\n",
    "        labels = batch['labels'].to(device)\n",
    "\n",
    "        optimizer.zero_grad()\n",
    "        outputs = model(input_ids, attention_mask=attention_mask)\n",
    "        loss = criterion(outputs, labels)\n",
    "        total_loss += loss.item()\n",
    "        loss.backward()\n",
    "        optimizer.step()\n",
    "\n",
    "    avg_train_loss = total_loss / len(train_loader)\n",
    "\n",
    "    # Validation\n",
    "    model.eval()\n",
    "    val_losses = []\n",
    "    for batch in val_loader:\n",
    "        with torch.no_grad():\n",
    "            input_ids = batch['input_ids'].to(device)\n",
    "            attention_mask = batch['attention_mask'].to(device)\n",
    "            labels = batch['labels'].to(device)\n",
    "            outputs = model(input_ids, attention_mask=attention_mask)\n",
    "            val_loss = criterion(outputs, labels)\n",
    "            val_losses.append(val_loss.item())\n",
    "\n",
    "    avg_val_loss = sum(val_losses) / len(val_losses)\n",
    "    print(f\"Epoch {epoch + 1}/{num_epochs}, Train Loss: {avg_train_loss:.4f}, Val Loss: {avg_val_loss:.4f}\")"
   ]
  },
  {
   "cell_type": "code",
   "execution_count": 41,
   "id": "ff16f878-d50d-4643-bf61-b17dadfaed05",
   "metadata": {},
   "outputs": [],
   "source": [
    "torch.save(model.state_dict(), 'bert_sentiment_model.pth')"
   ]
  },
  {
   "cell_type": "code",
   "execution_count": 176,
   "id": "1e6059a4-dd71-48e7-b369-c1d8b5ada7d1",
   "metadata": {},
   "outputs": [],
   "source": [
    "import numpy as np\n",
    "def predict_with_threshold(probs, threshold=0.95):\n",
    "    predicted_labels = (probs > threshold)\n",
    "    if np.sum(predicted_labels) == 0:\n",
    "        predicted_labels[0, np.argmax(probs)] = 1\n",
    "    indices = np.where(predicted_labels == 1)[1] + 1\n",
    "    return ','.join(str(x) for x in indices)"
   ]
  },
  {
   "cell_type": "code",
   "execution_count": 69,
   "id": "c2eb3b7d-95c7-4bfb-abd4-7ebdd6eec396",
   "metadata": {},
   "outputs": [
    {
     "name": "stdout",
     "output_type": "stream",
     "text": [
      "Predicted Probabilities: 1,5\n"
     ]
    }
   ],
   "source": [
    "def predict_labels(text):\n",
    "    inputs = tokenizer(text, padding=True, truncation=True, max_length=128, return_tensors='pt')\n",
    "    inputs = {k: v.to(device) for k, v in inputs.items()}\n",
    "    \n",
    "    outputs = model(inputs['input_ids'], inputs['attention_mask'])\n",
    "    logits = outputs\n",
    "    probs = torch.sigmoid(logits).detach().cpu().numpy()\n",
    "    return probs\n",
    "\n",
    "# Example usage\n",
    "text_sample = \"خوب وخوش طعم بود\"\n",
    "probs = predict_labels(text_sample)\n",
    "print(\"Predicted Probabilities:\", predict_with_threshold(probs))"
   ]
  },
  {
   "cell_type": "code",
   "execution_count": 177,
   "id": "ad2e97fa-f99a-4501-8a10-0553c5c21175",
   "metadata": {},
   "outputs": [],
   "source": [
    "df_test = pd.read_csv(\"data_test_users.csv\")"
   ]
  },
  {
   "cell_type": "code",
   "execution_count": 178,
   "id": "e06475dd-960d-4667-9167-75935d9b4856",
   "metadata": {},
   "outputs": [],
   "source": [
    "df_test['intent'] = None"
   ]
  },
  {
   "cell_type": "code",
   "execution_count": 179,
   "id": "798f1a18-d2c7-4079-91f7-00d3c00efe25",
   "metadata": {},
   "outputs": [
    {
     "name": "stdout",
     "output_type": "stream",
     "text": [
      "<class 'pandas.core.frame.DataFrame'>\n",
      "RangeIndex: 9000 entries, 0 to 8999\n",
      "Data columns (total 3 columns):\n",
      " #   Column   Non-Null Count  Dtype \n",
      "---  ------   --------------  ----- \n",
      " 0   id       9000 non-null   int64 \n",
      " 1   comment  9000 non-null   object\n",
      " 2   intent   0 non-null      object\n",
      "dtypes: int64(1), object(2)\n",
      "memory usage: 211.1+ KB\n"
     ]
    }
   ],
   "source": [
    "df_test.info()"
   ]
  },
  {
   "cell_type": "code",
   "execution_count": 180,
   "id": "01e640e4-3939-4f46-a190-b0bc3baf0208",
   "metadata": {},
   "outputs": [],
   "source": [
    "for ind, row in df_test.iterrows():\n",
    "    probs = predict_labels(row['comment'])\n",
    "    df_test.at[ind, 'intent'] = predict_with_threshold(probs)"
   ]
  },
  {
   "cell_type": "code",
   "execution_count": 181,
   "id": "b5b72f54-5c36-4109-92ce-adff42336139",
   "metadata": {},
   "outputs": [
    {
     "data": {
      "text/html": [
       "<div>\n",
       "<style scoped>\n",
       "    .dataframe tbody tr th:only-of-type {\n",
       "        vertical-align: middle;\n",
       "    }\n",
       "\n",
       "    .dataframe tbody tr th {\n",
       "        vertical-align: top;\n",
       "    }\n",
       "\n",
       "    .dataframe thead th {\n",
       "        text-align: right;\n",
       "    }\n",
       "</style>\n",
       "<table border=\"1\" class=\"dataframe\">\n",
       "  <thead>\n",
       "    <tr style=\"text-align: right;\">\n",
       "      <th></th>\n",
       "      <th>id</th>\n",
       "      <th>comment</th>\n",
       "      <th>intent</th>\n",
       "    </tr>\n",
       "  </thead>\n",
       "  <tbody>\n",
       "    <tr>\n",
       "      <th>0</th>\n",
       "      <td>15336956</td>\n",
       "      <td>خیلی خوبه عالیه</td>\n",
       "      <td>1</td>\n",
       "    </tr>\n",
       "    <tr>\n",
       "      <th>1</th>\n",
       "      <td>15336959</td>\n",
       "      <td>زیبا بود</td>\n",
       "      <td>1</td>\n",
       "    </tr>\n",
       "    <tr>\n",
       "      <th>2</th>\n",
       "      <td>15336960</td>\n",
       "      <td>به علت شکیتگی مرجوع کردم</td>\n",
       "      <td>1</td>\n",
       "    </tr>\n",
       "    <tr>\n",
       "      <th>3</th>\n",
       "      <td>15336961</td>\n",
       "      <td>هم جعبه ماوس باز شده بود و هم ماوس شکسته بود</td>\n",
       "      <td>1</td>\n",
       "    </tr>\n",
       "    <tr>\n",
       "      <th>4</th>\n",
       "      <td>15336964</td>\n",
       "      <td>چراغ قوه اش خوب بود</td>\n",
       "      <td>1</td>\n",
       "    </tr>\n",
       "    <tr>\n",
       "      <th>...</th>\n",
       "      <td>...</td>\n",
       "      <td>...</td>\n",
       "      <td>...</td>\n",
       "    </tr>\n",
       "    <tr>\n",
       "      <th>8995</th>\n",
       "      <td>14426574</td>\n",
       "      <td>من سایز ۱۸ تا ۲۴ ماه سفارش دادم اما وقتی رسید ...</td>\n",
       "      <td>4</td>\n",
       "    </tr>\n",
       "    <tr>\n",
       "      <th>8996</th>\n",
       "      <td>14426637</td>\n",
       "      <td>ولی این بار برای من اشتباه ارسال شده بود</td>\n",
       "      <td>4</td>\n",
       "    </tr>\n",
       "    <tr>\n",
       "      <th>8997</th>\n",
       "      <td>14426701</td>\n",
       "      <td>متاسفاته من مهتابی سفارش داده بودم ولی برام آف...</td>\n",
       "      <td>4</td>\n",
       "    </tr>\n",
       "    <tr>\n",
       "      <th>8998</th>\n",
       "      <td>14426742</td>\n",
       "      <td>دقیقاهمین چیزی که داخل عکسه ر</td>\n",
       "      <td>4</td>\n",
       "    </tr>\n",
       "    <tr>\n",
       "      <th>8999</th>\n",
       "      <td>14426779</td>\n",
       "      <td>همین الان به دستم رسید . برخلاف کیف های دیگه ک...</td>\n",
       "      <td>4</td>\n",
       "    </tr>\n",
       "  </tbody>\n",
       "</table>\n",
       "<p>9000 rows × 3 columns</p>\n",
       "</div>"
      ],
      "text/plain": [
       "            id                                            comment intent\n",
       "0     15336956                                    خیلی خوبه عالیه      1\n",
       "1     15336959                                           زیبا بود      1\n",
       "2     15336960                           به علت شکیتگی مرجوع کردم      1\n",
       "3     15336961       هم جعبه ماوس باز شده بود و هم ماوس شکسته بود      1\n",
       "4     15336964                                چراغ قوه اش خوب بود      1\n",
       "...        ...                                                ...    ...\n",
       "8995  14426574  من سایز ۱۸ تا ۲۴ ماه سفارش دادم اما وقتی رسید ...      4\n",
       "8996  14426637           ولی این بار برای من اشتباه ارسال شده بود      4\n",
       "8997  14426701  متاسفاته من مهتابی سفارش داده بودم ولی برام آف...      4\n",
       "8998  14426742                      دقیقاهمین چیزی که داخل عکسه ر      4\n",
       "8999  14426779  همین الان به دستم رسید . برخلاف کیف های دیگه ک...      4\n",
       "\n",
       "[9000 rows x 3 columns]"
      ]
     },
     "execution_count": 181,
     "metadata": {},
     "output_type": "execute_result"
    }
   ],
   "source": [
    "df_test"
   ]
  },
  {
   "cell_type": "code",
   "execution_count": 182,
   "id": "1e4f4d23-d48c-4cca-a821-5907312b7a00",
   "metadata": {},
   "outputs": [],
   "source": [
    "df_test.to_csv(\"result.csv\")"
   ]
  },
  {
   "cell_type": "code",
   "execution_count": 183,
   "id": "b7aca085-90ed-4707-9744-88b6d699912c",
   "metadata": {},
   "outputs": [
    {
     "data": {
      "text/plain": [
       "intent\n",
       "4      2072\n",
       "5      1734\n",
       "1      1646\n",
       "2      1577\n",
       "3      1389\n",
       "1,3     255\n",
       "1,2     211\n",
       "1,5      77\n",
       "1,4      39\n",
       "Name: count, dtype: int64"
      ]
     },
     "execution_count": 183,
     "metadata": {},
     "output_type": "execute_result"
    }
   ],
   "source": [
    "df_test['intent'].value_counts()"
   ]
  },
  {
   "cell_type": "code",
   "execution_count": null,
   "id": "0d534fd7-a338-4cf2-a050-ad569ed5fc54",
   "metadata": {},
   "outputs": [],
   "source": []
  }
 ],
 "metadata": {
  "kernelspec": {
   "display_name": "Python 3 (ipykernel)",
   "language": "python",
   "name": "python3"
  },
  "language_info": {
   "codemirror_mode": {
    "name": "ipython",
    "version": 3
   },
   "file_extension": ".py",
   "mimetype": "text/x-python",
   "name": "python",
   "nbconvert_exporter": "python",
   "pygments_lexer": "ipython3",
   "version": "3.11.5"
  }
 },
 "nbformat": 4,
 "nbformat_minor": 5
}
